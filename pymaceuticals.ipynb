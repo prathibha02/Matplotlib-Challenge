{
 "cells": [
  {
   "cell_type": "markdown",
   "metadata": {},
   "source": [
    "## Observations and Insights "
   ]
  },
  {
   "cell_type": "markdown",
   "metadata": {},
   "source": []
  },
  {
   "cell_type": "code",
   "execution_count": null,
   "metadata": {},
   "outputs": [],
   "source": [
    "# Dependencies and Setup\n",
    "import matplotlib.pyplot as plt\n",
    "import pandas as pd\n",
    "import scipy.stats as st\n",
    "import numpy as np\n",
    "\n",
    "# Study data files\n",
    "mouse_metadata_path = \"data/Mouse_metadata.csv\"\n",
    "study_results_path = \"data/Study_results.csv\"\n",
    "\n",
    "# Read the mouse data and the study results\n",
    "mouse_metadata = pd.read_csv(mouse_metadata_path)\n",
    "study_results = pd.read_csv(study_results_path)\n",
    "\n",
    "# Combine the data into a single dataset\n",
    "mouse_study_merged = pd.merge(mouse_metadata, study_results, on=\"Mouse ID\")\n",
    "# Display the data table for preview\n",
    "mouse_study_merged\n"
   ]
  },
  {
   "cell_type": "code",
   "execution_count": null,
   "metadata": {},
   "outputs": [],
   "source": [
    "# Checking the number of mice.\n",
    "count = mouse_study_merged[\"Mouse ID\"].value_counts()\n",
    "count"
   ]
  },
  {
   "cell_type": "code",
   "execution_count": null,
   "metadata": {},
   "outputs": [],
   "source": [
    "# Getting the duplicate mice by ID number that shows up for Mouse ID and Timepoint. \n",
    "\n",
    "# Extract duplicate rows \n",
    "duplicated = mouse_study_merged[mouse_study_merged.duplicated(subset=[\"Mouse ID\", \"Timepoint\"], keep='last')]\n",
    "\n",
    "duplicated\n"
   ]
  },
  {
   "cell_type": "code",
   "execution_count": null,
   "metadata": {},
   "outputs": [],
   "source": [
    "# Create a clean DataFrame by dropping the duplicate mouse by its ID.\n",
    "\n",
    "cleaned_mouse_study = mouse_study_merged.drop_duplicates(subset=[\"Mouse ID\", \"Timepoint\"], keep='first')\n",
    "\n",
    "cleaned_mouse_study"
   ]
  },
  {
   "cell_type": "code",
   "execution_count": null,
   "metadata": {},
   "outputs": [],
   "source": [
    "# Checking the number of mice in the clean DataFrame.\n",
    "count = cleaned_mouse_study[\"Mouse ID\"].value_counts()\n",
    "count"
   ]
  },
  {
   "cell_type": "markdown",
   "metadata": {},
   "source": [
    "## Summary Statistics"
   ]
  },
  {
   "cell_type": "code",
   "execution_count": null,
   "metadata": {},
   "outputs": [],
   "source": [
    "# Generate a summary statistics table of mean, median, variance, standard deviation, and SEM of the tumor volume\n",
    "# for each regimen\n",
    "\n",
    "# Use groupby and summary statistical methods to calculate the following properties of each drug regimen: \n",
    "\n",
    "grouped_study_df = cleaned_mouse_study.groupby([\"Drug Regimen\"])\n",
    "print(grouped_study_df)\n",
    "grouped_study_df.count().head(20)\n",
    "\n"
   ]
  },
  {
   "cell_type": "code",
   "execution_count": null,
   "metadata": {},
   "outputs": [],
   "source": [
    "# Calculate the Mean of Tumor Volumes for each Drug Regimen\n",
    "\n",
    "mean_tumor_by_regimen_df = pd.DataFrame(\n",
    "    grouped_study_df[[\"Tumor Volume (mm3)\"]].mean()\n",
    "   )\n",
    "mean_tumor_by_regimen_df\n"
   ]
  },
  {
   "cell_type": "code",
   "execution_count": null,
   "metadata": {},
   "outputs": [],
   "source": [
    "#Calculate the Median of the Tumor Volumes per Drug Regimen\n",
    "\n",
    "median_tumor_by_regimen_df = pd.DataFrame(\n",
    "    grouped_study_df[[\"Tumor Volume (mm3)\"]].median()\n",
    "   )\n",
    "median_tumor_by_regimen_df\n",
    "\n",
    "# Declare a Dataframe to hold all the statistical values calculated\n",
    "\n",
    "# Add the Mean and Median of Tumor Volumes to the Summary Dataframe\n",
    "summary_df = pd.merge(mean_tumor_by_regimen_df, median_tumor_by_regimen_df, on='Drug Regimen', how='inner')\n",
    "\n",
    "# Change the name of the columns to reflect what they stand for\n",
    "summary_df = summary_df.rename(columns={'Tumor Volume (mm3)_x' : 'Mean of tumor volumes'})\n",
    "summary_df = summary_df.rename(columns={'Tumor Volume (mm3)_y' : 'Median'})\n",
    "summary_df"
   ]
  },
  {
   "cell_type": "code",
   "execution_count": null,
   "metadata": {},
   "outputs": [],
   "source": [
    "# Calculate the variance of Tumor Volumes\n",
    "\n",
    "var_tumor_by_regimen_df = pd.DataFrame(\n",
    "    grouped_study_df[[\"Tumor Volume (mm3)\"]].var()\n",
    "   )\n",
    "\n",
    "#Add Variances to the summary table\n",
    "summary_df = pd.merge(summary_df, var_tumor_by_regimen_df, on='Drug Regimen', how='inner')\n",
    "\n",
    "summary_df = summary_df.rename(columns={'Tumor Volume (mm3)' : 'Variance'})\n",
    "\n",
    "summary_df"
   ]
  },
  {
   "cell_type": "code",
   "execution_count": null,
   "metadata": {},
   "outputs": [],
   "source": [
    "# Calculate the Standard Deviation of Tumor Volumes\n",
    "std_tumor_by_regimen_df = pd.DataFrame(\n",
    "    grouped_study_df[[\"Tumor Volume (mm3)\"]].std()\n",
    "   )\n",
    "\n",
    "#Add Standard Deviations to the summary table\n",
    "summary_df = pd.merge(summary_df, std_tumor_by_regimen_df, on='Drug Regimen')\n",
    "summary_df = summary_df.rename(columns={'Tumor Volume (mm3)' : 'Standard Deviation'})\n",
    "summary_df"
   ]
  },
  {
   "cell_type": "code",
   "execution_count": null,
   "metadata": {},
   "outputs": [],
   "source": [
    "# Calculate the SEM of Tumor Volumes\n",
    "sem_tumor_by_regimen_df = pd.DataFrame(\n",
    "    grouped_study_df[[\"Tumor Volume (mm3)\"]].sem()\n",
    "   )\n",
    "\n",
    "#Add SEM to the summary table\n",
    "summary_df = pd.merge(summary_df, sem_tumor_by_regimen_df, on='Drug Regimen')\n",
    "summary_df = summary_df.rename(columns={'Tumor Volume (mm3)' : 'Standard Error of Mean Vs Standard Deviation'})\n",
    "summary_df"
   ]
  },
  {
   "cell_type": "code",
   "execution_count": null,
   "metadata": {},
   "outputs": [],
   "source": [
    "  # Using the aggregation method, produce the same summary statistics in a single line\n",
    "\n",
    "summary2_df = cleaned_mouse_study.groupby(\"Drug Regimen\").agg({\"Tumor Volume (mm3)\":[\"mean\",\"median\",\"var\",\"std\",\"sem\"]})\n",
    "\n",
    "# Change the table names\n",
    "summary2_df = summary2_df.rename(columns={'mean' : 'Mean', 'median' : 'Median',\n",
    "                                       'var': 'Variance', 'std':'Standard Deviation', 'sem':'SEM'})\n",
    "summary2_df"
   ]
  },
  {
   "cell_type": "markdown",
   "metadata": {},
   "source": [
    "## Bar and Pie Charts"
   ]
  },
  {
   "cell_type": "code",
   "execution_count": null,
   "metadata": {},
   "outputs": [],
   "source": [
    "# Generate a bar plot showing the total number of timepoints for all mice tested for each drug regimen using Pandas.\n",
    "Counts_df=grouped_study_df[['Timepoint', 'Mouse ID']].value_counts().reset_index(name='Total_timepoints_mice')\n",
    "Counts_df"
   ]
  },
  {
   "cell_type": "code",
   "execution_count": null,
   "metadata": {},
   "outputs": [],
   "source": [
    "x_axis = np.arange(len(Counts_df))\n",
    "tick_locations = [value for value in x_axis]\n",
    "\n",
    "# Create a list indicating where to write x labels and set figure size to adjust for space\n",
    "plt.figure(figsize=(10,6))\n",
    "plt.bar(x_axis, Counts_df[\"Total_timepoints_mice\"], color='r', alpha=0.5, align=\"center\")\n",
    "plt.xticks(tick_locations, Counts_df[\"Drug Regimen\"], rotation=\"vertical\")"
   ]
  },
  {
   "cell_type": "code",
   "execution_count": null,
   "metadata": {},
   "outputs": [],
   "source": [
    "# Generate a bar plot showing the total number of timepoints for all mice tested for each drug regimen using pyplot.\n",
    "\n"
   ]
  },
  {
   "cell_type": "code",
   "execution_count": null,
   "metadata": {},
   "outputs": [],
   "source": [
    "# Generate a pie plot showing the distribution of female versus male mice using Pandas\n",
    "\n"
   ]
  },
  {
   "cell_type": "code",
   "execution_count": null,
   "metadata": {},
   "outputs": [],
   "source": [
    "# Generate a pie plot showing the distribution of female versus male mice using pyplot\n",
    "\n"
   ]
  },
  {
   "cell_type": "markdown",
   "metadata": {},
   "source": [
    "## Quartiles, Outliers and Boxplots"
   ]
  },
  {
   "cell_type": "code",
   "execution_count": null,
   "metadata": {},
   "outputs": [],
   "source": [
    "# Calculate the final tumor volume of each mouse across four of the treatment regimens:  \n",
    "# Capomulin, Ramicane, Infubinol, and Ceftamin\n",
    "\n",
    "# Start by getting the last (greatest) timepoint for each mouse\n",
    "\n",
    "\n",
    "# Merge this group df with the original dataframe to get the tumor volume at the last timepoint\n"
   ]
  },
  {
   "cell_type": "code",
   "execution_count": null,
   "metadata": {},
   "outputs": [],
   "source": [
    "# Put treatments into a list for for loop (and later for plot labels)\n",
    "\n",
    "\n",
    "# Create empty list to fill with tumor vol data (for plotting)\n",
    "\n",
    "\n",
    "# Calculate the IQR and quantitatively determine if there are any potential outliers. \n",
    "\n",
    "    \n",
    "    # Locate the rows which contain mice on each drug and get the tumor volumes\n",
    "    \n",
    "    \n",
    "    # add subset \n",
    "    \n",
    "    \n",
    "    # Determine outliers using upper and lower bounds\n",
    "    "
   ]
  },
  {
   "cell_type": "code",
   "execution_count": null,
   "metadata": {},
   "outputs": [],
   "source": [
    "# Generate a box plot of the final tumor volume of each mouse across four regimens of interest\n"
   ]
  },
  {
   "cell_type": "markdown",
   "metadata": {},
   "source": [
    "## Line and Scatter Plots"
   ]
  },
  {
   "cell_type": "code",
   "execution_count": null,
   "metadata": {},
   "outputs": [],
   "source": [
    "# Generate a line plot of tumor volume vs. time point for a mouse treated with Capomulin\n"
   ]
  },
  {
   "cell_type": "code",
   "execution_count": null,
   "metadata": {},
   "outputs": [],
   "source": [
    "# Generate a scatter plot of average tumor volume vs. mouse weight for the Capomulin regimen\n"
   ]
  },
  {
   "cell_type": "markdown",
   "metadata": {},
   "source": [
    "## Correlation and Regression"
   ]
  },
  {
   "cell_type": "code",
   "execution_count": null,
   "metadata": {},
   "outputs": [],
   "source": [
    "# Calculate the correlation coefficient and linear regression model \n",
    "# for mouse weight and average tumor volume for the Capomulin regimen\n"
   ]
  },
  {
   "cell_type": "code",
   "execution_count": null,
   "metadata": {},
   "outputs": [],
   "source": []
  }
 ],
 "metadata": {
  "anaconda-cloud": {},
  "kernelspec": {
   "display_name": "Python 3 (ipykernel)",
   "language": "python",
   "name": "python3"
  },
  "language_info": {
   "codemirror_mode": {
    "name": "ipython",
    "version": 3
   },
   "file_extension": ".py",
   "mimetype": "text/x-python",
   "name": "python",
   "nbconvert_exporter": "python",
   "pygments_lexer": "ipython3",
   "version": "3.9.12"
  }
 },
 "nbformat": 4,
 "nbformat_minor": 4
}
